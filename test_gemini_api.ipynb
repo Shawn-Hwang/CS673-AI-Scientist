{
 "cells": [
  {
   "cell_type": "code",
   "execution_count": 2,
   "metadata": {},
   "outputs": [],
   "source": [
    "from google import genai\n",
    "import os"
   ]
  },
  {
   "cell_type": "code",
   "execution_count": 6,
   "metadata": {},
   "outputs": [],
   "source": [
    "api = None\n",
    "with open('gemini_api_key.txt', 'r') as file:\n",
    "    api = file.read().strip()\n",
    "client = genai.Client(api_key=api)"
   ]
  },
  {
   "cell_type": "code",
   "execution_count": 11,
   "metadata": {},
   "outputs": [
    {
     "name": "stdout",
     "output_type": "stream",
     "text": [
      "Okay! That's great. Do you want to tell me anything else about your dogs? Like their names, breeds, or what they like to do? I'd love to hear about them!\n",
      "Since you have two dogs, and each dog has four paws, there are 2 * 4 = 8 paws in your house.\n",
      "role -  user: user: I have 2 dogs in my house.\n",
      "role -  model: Okay\n",
      "role -  model: !\n",
      "role -  model:  That's great. Do you want to tell me anything else about your dogs\n",
      "role -  model: ? Like their names, breeds, or what they like to do? I'\n",
      "role -  model: d love to hear about them!\n",
      "\n",
      "role -  user: user: How many paws are in my house?\n",
      "role -  model: Since\n",
      "role -  model:  you have two dogs, and each dog has four paws, there are 2 * 4\n",
      "role -  model:  = 8 paws in your house.\n",
      "\n"
     ]
    }
   ],
   "source": [
    "chat = client.chats.create(model=\"gemini-2.0-flash\")\n",
    "response = chat.send_message_stream(\"user: I have 2 dogs in my house.\")\n",
    "for chunk in response:\n",
    "    print(chunk.text, end=\"\")\n",
    "# print(response)\n",
    "response = chat.send_message_stream(\"user: How many paws are in my house?\")\n",
    "for chunk in response:\n",
    "    print(chunk.text, end=\"\")\n",
    "for message in chat._curated_history:\n",
    "    print(f'role - ', message.role, end=\": \")\n",
    "    print(message.parts[0].text)"
   ]
  },
  {
   "cell_type": "code",
   "execution_count": 12,
   "metadata": {},
   "outputs": [
    {
     "data": {
      "text/plain": [
       "[Content(parts=[Part(video_metadata=None, thought=None, code_execution_result=None, executable_code=None, file_data=None, function_call=None, function_response=None, inline_data=None, text='user: I have 2 dogs in my house.')], role='user'),\n",
       " Content(parts=[Part(video_metadata=None, thought=None, code_execution_result=None, executable_code=None, file_data=None, function_call=None, function_response=None, inline_data=None, text='Okay')], role='model'),\n",
       " Content(parts=[Part(video_metadata=None, thought=None, code_execution_result=None, executable_code=None, file_data=None, function_call=None, function_response=None, inline_data=None, text='!')], role='model'),\n",
       " Content(parts=[Part(video_metadata=None, thought=None, code_execution_result=None, executable_code=None, file_data=None, function_call=None, function_response=None, inline_data=None, text=\" That's great. Do you want to tell me anything else about your dogs\")], role='model'),\n",
       " Content(parts=[Part(video_metadata=None, thought=None, code_execution_result=None, executable_code=None, file_data=None, function_call=None, function_response=None, inline_data=None, text=\"? Like their names, breeds, or what they like to do? I'\")], role='model'),\n",
       " Content(parts=[Part(video_metadata=None, thought=None, code_execution_result=None, executable_code=None, file_data=None, function_call=None, function_response=None, inline_data=None, text='d love to hear about them!\\n')], role='model'),\n",
       " Content(parts=[Part(video_metadata=None, thought=None, code_execution_result=None, executable_code=None, file_data=None, function_call=None, function_response=None, inline_data=None, text='user: How many paws are in my house?')], role='user'),\n",
       " Content(parts=[Part(video_metadata=None, thought=None, code_execution_result=None, executable_code=None, file_data=None, function_call=None, function_response=None, inline_data=None, text='Since')], role='model'),\n",
       " Content(parts=[Part(video_metadata=None, thought=None, code_execution_result=None, executable_code=None, file_data=None, function_call=None, function_response=None, inline_data=None, text=' you have two dogs, and each dog has four paws, there are 2 * 4')], role='model'),\n",
       " Content(parts=[Part(video_metadata=None, thought=None, code_execution_result=None, executable_code=None, file_data=None, function_call=None, function_response=None, inline_data=None, text=' = 8 paws in your house.\\n')], role='model')]"
      ]
     },
     "execution_count": 12,
     "metadata": {},
     "output_type": "execute_result"
    }
   ],
   "source": [
    "chat._curated_history"
   ]
  },
  {
   "cell_type": "code",
   "execution_count": 13,
   "metadata": {},
   "outputs": [
    {
     "name": "stdout",
     "output_type": "stream",
     "text": [
      "The lighthouse keeper, Silas, wasn't fond of visitors. For fifty years, he'd lived with the rhythmic crash of waves and the piercing cry of gulls, a solitude he guarded fiercely. But one day, a small, battered sailboat limped into the cove. From it emerged a young woman named Elara, her face etched with exhaustion.\n",
      "\n",
      "“Engine trouble,” she explained, voice hoarse. “Need to make repairs before the storm hits.”\n",
      "\n",
      "Silas grumbled, pointing to the dilapidated toolshed. He offered her nothing else, expecting her to disappear with the tide. But Elara was persistent. She spent the next few days patching her engine, humming melodies that somehow snuck into Silas's grim heart. She’d bring him steaming mugs of something she called “herbal tea,” which tasted surprisingly like sunshine, and ask him about the history of the lighthouse.\n",
      "\n",
      "He, in turn, found himself answering. He told her about the shipwrecks he'd witnessed, the families he'd guided to safety, and the loneliness that clung to him like sea salt. He showed her the intricate network of mirrors that amplified the beacon, a testament to a technology he both loved and resented.\n",
      "\n",
      "The day the storm finally broke, Elara had her engine running. Before she left, she turned to Silas, her eyes mirroring the churning sea. “Thank you,” she said, a genuine smile lighting her face. “For the tools, the stories… and the tea.”\n",
      "\n",
      "As her boat disappeared into the mist, Silas watched, a strange ache in his chest. He felt…lighter. That night, as he polished the lens of the beacon, its beam slicing through the storm, he realized Elara hadn't just repaired her engine. She’d mended a piece of him, too. The silence was still there, but it no longer felt so deafening.\n",
      "\n",
      "{\n",
      "    \"candidates\": [\n",
      "        {\n",
      "            \"content\": {\n",
      "                \"parts\": [\n",
      "                    {\n",
      "                        \"text\": \"The lighthouse keeper, Silas, wasn't fond of visitors. For fifty years, he'd lived with the rhythmic crash of waves and the piercing cry of gulls, a solitude he guarded fiercely. But one day, a small, battered sailboat limped into the cove. From it emerged a young woman named Elara, her face etched with exhaustion.\\n\\n“Engine trouble,” she explained, voice hoarse. “Need to make repairs before the storm hits.”\\n\\nSilas grumbled, pointing to the dilapidated toolshed. He offered her nothing else, expecting her to disappear with the tide. But Elara was persistent. She spent the next few days patching her engine, humming melodies that somehow snuck into Silas's grim heart. She’d bring him steaming mugs of something she called “herbal tea,” which tasted surprisingly like sunshine, and ask him about the history of the lighthouse.\\n\\nHe, in turn, found himself answering. He told her about the shipwrecks he'd witnessed, the families he'd guided to safety, and the loneliness that clung to him like sea salt. He showed her the intricate network of mirrors that amplified the beacon, a testament to a technology he both loved and resented.\\n\\nThe day the storm finally broke, Elara had her engine running. Before she left, she turned to Silas, her eyes mirroring the churning sea. “Thank you,” she said, a genuine smile lighting her face. “For the tools, the stories… and the tea.”\\n\\nAs her boat disappeared into the mist, Silas watched, a strange ache in his chest. He felt…lighter. That night, as he polished the lens of the beacon, its beam slicing through the storm, he realized Elara hadn't just repaired her engine. She’d mended a piece of him, too. The silence was still there, but it no longer felt so deafening.\\n\"\n",
      "                    }\n",
      "                ],\n",
      "                \"role\": \"model\"\n",
      "            },\n",
      "            \"avg_logprobs\": -0.7133508587630548,\n",
      "            \"finish_reason\": \"STOP\"\n",
      "        }\n",
      "    ],\n",
      "    \"model_version\": \"gemini-2.0-flash\",\n",
      "    \"usage_metadata\": {\n",
      "        \"candidates_token_count\": 383,\n",
      "        \"prompt_token_count\": 11,\n",
      "        \"total_token_count\": 394\n",
      "    },\n",
      "    \"automatic_function_calling_history\": []\n",
      "}\n"
     ]
    }
   ],
   "source": [
    "response = client.models.generate_content(\n",
    "    model='gemini-2.0-flash',\n",
    "    contents='Tell me a story in 300 words.'\n",
    ")\n",
    "print(response.text)\n",
    "\n",
    "print(response.model_dump_json(\n",
    "    exclude_none=True, indent=4))"
   ]
  }
 ],
 "metadata": {
  "kernelspec": {
   "display_name": "cs673",
   "language": "python",
   "name": "python3"
  },
  "language_info": {
   "codemirror_mode": {
    "name": "ipython",
    "version": 3
   },
   "file_extension": ".py",
   "mimetype": "text/x-python",
   "name": "python",
   "nbconvert_exporter": "python",
   "pygments_lexer": "ipython3",
   "version": "3.11.11"
  }
 },
 "nbformat": 4,
 "nbformat_minor": 2
}
